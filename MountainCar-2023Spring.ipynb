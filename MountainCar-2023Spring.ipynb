{
 "cells": [
  {
   "cell_type": "markdown",
   "metadata": {
    "colab_type": "text",
    "id": "ReRFzrTl77hl"
   },
   "source": [
    "## CSPB 3202 - Artificial Intelligence - Project (OpenAI Gym - MountainCar) \n",
    "## Yoshie Bell-Souder\n",
    "\n",
    "#### Project Overview: \n",
    "<b>About Project:</b> We are going to work on our CSPB 3202 AI Project using OpenAI Gym(https://gymnasium.farama.org/). There are much different game environments, such as Cart Pole(https://gymnasium.farama.org/environments/classic_control/cart_pole/), Assault(https://gymnasium.farama.org/environments/atari/assault/). Of the choices, I picked the Mountain Car.\n",
    "\n",
    "Then I followed the Cart Pole example to test my Mountain Car.\n",
    "\n",
    "<b>About the environment works and rule:</b>\n",
    "The car is located at the bottom of the mountain and tries to reach the flag, which is the goal at the top. There are three actions, left, right, and stop. \n",
    "\n",
    "<b>About the model:</b>\n",
    "Using Q-learning, achiving the goal is a higher possibility.  I would like to try to choose the model. Because the action is random and chages every time the script is run, reaching a goal takes time and sometimes is not finished until the maximum of trials."
   ]
  },
  {
   "cell_type": "code",
   "execution_count": 1,
   "metadata": {
    "colab": {},
    "colab_type": "code",
    "id": "x_Jq7g1-77hm"
   },
   "outputs": [],
   "source": [
    "import gymnasium as gym\n",
    "# my python file is followed and based on cartpole-2023Spring.ipynb example in this project (Reference)\n",
    "\n",
    "import warnings\n",
    "from collections import namedtuple\n",
    "warnings.filterwarnings(\"ignore\", category=DeprecationWarning)\n",
    "partition = namedtuple(\"partition\", [\"type\", \"subtype\"])"
   ]
  },
  {
   "cell_type": "code",
   "execution_count": 2,
   "metadata": {
    "colab": {
     "base_uri": "https://localhost:8080/",
     "height": 34
    },
    "colab_type": "code",
    "executionInfo": {
     "elapsed": 982,
     "status": "ok",
     "timestamp": 1587754481526,
     "user": {
      "displayName": "Ketan Ramesh",
      "photoUrl": "https://lh3.googleusercontent.com/a-/AOh14GjfwRjj49F2JlDyKTfXmTOoBNu-A4deHVrB1vg0Qw=s64",
      "userId": "03181076370714837334"
     },
     "user_tz": 360
    },
    "id": "YGcSpp4D77hr",
    "outputId": "051387ac-b7d8-49dc-edc3-2e9a5226f0fa"
   },
   "outputs": [
    {
     "data": {
      "text/plain": [
       "'0.26.3'"
      ]
     },
     "execution_count": 2,
     "metadata": {},
     "output_type": "execute_result"
    }
   ],
   "source": [
    "gym.__version__"
   ]
  },
  {
   "cell_type": "code",
   "execution_count": 3,
   "metadata": {
    "colab": {},
    "colab_type": "code",
    "id": "e_vnnDZ077hv"
   },
   "outputs": [],
   "source": [
    "e = gym.make('MountainCar-v0').env"
   ]
  },
  {
   "cell_type": "code",
   "execution_count": 4,
   "metadata": {
    "colab": {
     "base_uri": "https://localhost:8080/",
     "height": 34
    },
    "colab_type": "code",
    "executionInfo": {
     "elapsed": 964,
     "status": "ok",
     "timestamp": 1587754481528,
     "user": {
      "displayName": "Ketan Ramesh",
      "photoUrl": "https://lh3.googleusercontent.com/a-/AOh14GjfwRjj49F2JlDyKTfXmTOoBNu-A4deHVrB1vg0Qw=s64",
      "userId": "03181076370714837334"
     },
     "user_tz": 360
    },
    "id": "7ms9y2IF77h4",
    "outputId": "28019164-f40a-4684-c33f-8a564e926efa"
   },
   "outputs": [
    {
     "name": "stdout",
     "output_type": "stream",
     "text": [
      "The observation space: Box([-1.2  -0.07], [0.6  0.07], (2,), float32)\n",
      "The action space: Discrete(3)\n"
     ]
    }
   ],
   "source": [
    "# observation and action space\n",
    "# Based on https://gymnasium.farama.org/environments/classic_control/mountain_car/\n",
    "obs = e.observation_space\n",
    "act = e.action_space # possible actions are 0: left, 1: Don’t accelerate, 2: right\n",
    "print(\"The observation space:\", format(obs))\n",
    "print(\"The action space:\", format(act))"
   ]
  },
  {
   "cell_type": "code",
   "execution_count": 5,
   "metadata": {},
   "outputs": [
    {
     "name": "stdout",
     "output_type": "stream",
     "text": [
      "The initial observation is (array([-0.45545295,  0.        ], dtype=float32), {})\n",
      "random_action:  2\n",
      "new_obs:  (array([-0.4549605 ,  0.00049246], dtype=float32), -1.0, False, False, {})\n",
      "The new observation is (array([-0.4549605 ,  0.00049246], dtype=float32), -1.0, False, False, {})\n"
     ]
    }
   ],
   "source": [
    "# reset\n",
    "obs_reset = e.reset()\n",
    "# see the initial observation\n",
    "print(\"The initial observation is\", format(obs_reset))\n",
    "\n",
    "# get a sample action\n",
    "random_act = e.action_space.sample()\n",
    "\n",
    "# take the action\n",
    "new_obs = e.step(random_act)\n",
    "print(\"random_action: \", random_act)\n",
    "print(\"new_obs: \", new_obs)\n",
    "print(\"The new observation is\", format(new_obs))"
   ]
  },
  {
   "cell_type": "code",
   "execution_count": 6,
   "metadata": {
    "colab": {},
    "colab_type": "code",
    "id": "nTAczof_77h7"
   },
   "outputs": [],
   "source": [
    "from gym.spaces.discrete import Discrete"
   ]
  },
  {
   "cell_type": "code",
   "execution_count": 7,
   "metadata": {
    "colab": {},
    "colab_type": "code",
    "id": "mu4AiznC77h_"
   },
   "outputs": [],
   "source": [
    "d = Discrete(3) #the Discrete is a class that has methods .sample and .contains"
   ]
  },
  {
   "cell_type": "code",
   "execution_count": 8,
   "metadata": {
    "colab": {
     "base_uri": "https://localhost:8080/",
     "height": 34
    },
    "colab_type": "code",
    "executionInfo": {
     "elapsed": 952,
     "status": "ok",
     "timestamp": 1587754481529,
     "user": {
      "displayName": "Ketan Ramesh",
      "photoUrl": "https://lh3.googleusercontent.com/a-/AOh14GjfwRjj49F2JlDyKTfXmTOoBNu-A4deHVrB1vg0Qw=s64",
      "userId": "03181076370714837334"
     },
     "user_tz": 360
    },
    "id": "tUuXD-s277iB",
    "outputId": "de400d4d-9304-4c5f-8dee-4237de9b25df"
   },
   "outputs": [
    {
     "data": {
      "text/plain": [
       "[1, 1, 2, 1, 2, 0, 1, 0, 2, 0]"
      ]
     },
     "execution_count": 8,
     "metadata": {},
     "output_type": "execute_result"
    }
   ],
   "source": [
    "[d.sample() for x in range(10)] #sample generates an action output"
   ]
  },
  {
   "cell_type": "code",
   "execution_count": 9,
   "metadata": {
    "colab": {
     "base_uri": "https://localhost:8080/",
     "height": 34
    },
    "colab_type": "code",
    "executionInfo": {
     "elapsed": 943,
     "status": "ok",
     "timestamp": 1587754481529,
     "user": {
      "displayName": "Ketan Ramesh",
      "photoUrl": "https://lh3.googleusercontent.com/a-/AOh14GjfwRjj49F2JlDyKTfXmTOoBNu-A4deHVrB1vg0Qw=s64",
      "userId": "03181076370714837334"
     },
     "user_tz": 360
    },
    "id": "MEGPKg9t77iE",
    "outputId": "46e5ec00-78a6-4487-e89a-79c242fa9c2d"
   },
   "outputs": [
    {
     "name": "stdout",
     "output_type": "stream",
     "text": [
      "True True True False\n"
     ]
    }
   ],
   "source": [
    "print(d.contains(0), d.contains(1), d.contains(2), d.contains(3)) \n",
    "# with .contains method, we can check whether an integer is a valid action"
   ]
  },
  {
   "cell_type": "code",
   "execution_count": 10,
   "metadata": {
    "colab": {
     "base_uri": "https://localhost:8080/",
     "height": 34
    },
    "colab_type": "code",
    "executionInfo": {
     "elapsed": 1204,
     "status": "ok",
     "timestamp": 1587754481809,
     "user": {
      "displayName": "Ketan Ramesh",
      "photoUrl": "https://lh3.googleusercontent.com/a-/AOh14GjfwRjj49F2JlDyKTfXmTOoBNu-A4deHVrB1vg0Qw=s64",
      "userId": "03181076370714837334"
     },
     "user_tz": 360
    },
    "id": "No_C7X0B77iJ",
    "outputId": "456091bf-4163-48a7-9d48-2c74cc0b2411"
   },
   "outputs": [
    {
     "data": {
      "text/plain": [
       "(array([-0.45597917, -0.0010187 ], dtype=float32), -1.0, False, False, {})"
      ]
     },
     "execution_count": 10,
     "metadata": {},
     "output_type": "execute_result"
    }
   ],
   "source": [
    "e.step(0)"
   ]
  },
  {
   "cell_type": "code",
   "execution_count": 11,
   "metadata": {
    "colab": {
     "base_uri": "https://localhost:8080/",
     "height": 34
    },
    "colab_type": "code",
    "executionInfo": {
     "elapsed": 1196,
     "status": "ok",
     "timestamp": 1587754481810,
     "user": {
      "displayName": "Ketan Ramesh",
      "photoUrl": "https://lh3.googleusercontent.com/a-/AOh14GjfwRjj49F2JlDyKTfXmTOoBNu-A4deHVrB1vg0Qw=s64",
      "userId": "03181076370714837334"
     },
     "user_tz": 360
    },
    "id": "MV4u3f9677iM",
    "outputId": "e3e42604-014d-4111-f922-8f65fd44b048"
   },
   "outputs": [
    {
     "data": {
      "text/plain": [
       "(array([-0.45750156, -0.00152237], dtype=float32), -1.0, False, False, {})"
      ]
     },
     "execution_count": 11,
     "metadata": {},
     "output_type": "execute_result"
    }
   ],
   "source": [
    "e.step(1) \n",
    "# reference: https://github.com/openai/gym/blob/master/gym/envs/classic_control/mountain_car.py"
   ]
  },
  {
   "cell_type": "code",
   "execution_count": 12,
   "metadata": {},
   "outputs": [
    {
     "data": {
      "text/plain": [
       "(array([-0.45851642, -0.00101486], dtype=float32), -1.0, False, False, {})"
      ]
     },
     "execution_count": 12,
     "metadata": {},
     "output_type": "execute_result"
    }
   ],
   "source": [
    "e.step(2) "
   ]
  },
  {
   "cell_type": "markdown",
   "metadata": {
    "colab_type": "text",
    "id": "oTjeN5wu77iO"
   },
   "source": [
    "## Making an agent"
   ]
  },
  {
   "cell_type": "code",
   "execution_count": 13,
   "metadata": {
    "colab": {
     "base_uri": "https://localhost:8080/",
     "height": 34
    },
    "colab_type": "code",
    "executionInfo": {
     "elapsed": 1187,
     "status": "ok",
     "timestamp": 1587754481810,
     "user": {
      "displayName": "Ketan Ramesh",
      "photoUrl": "https://lh3.googleusercontent.com/a-/AOh14GjfwRjj49F2JlDyKTfXmTOoBNu-A4deHVrB1vg0Qw=s64",
      "userId": "03181076370714837334"
     },
     "user_tz": 360
    },
    "id": "9w2CUN6I77iO",
    "outputId": "2adfbef0-d104-46f6-8c70-d103bc2bb94d"
   },
   "outputs": [
    {
     "name": "stderr",
     "output_type": "stream",
     "text": [
      "/Users/yoshie/opt/anaconda3/lib/python3.9/site-packages/gymnasium/envs/classic_control/mountain_car.py:174: UserWarning: \u001b[33mWARN: You are calling render method without specifying any render mode. You can specify the render_mode at initialization, e.g. gym(\"MountainCar-v0\", render_mode=\"rgb_array\")\u001b[0m\n",
      "  gym.logger.warn(\n"
     ]
    },
    {
     "name": "stdout",
     "output_type": "stream",
     "text": [
      "Episode done in 24137 steps, total reward -24117.00\n"
     ]
    }
   ],
   "source": [
    "# from gym.envs.registration import load_env_plugins as _load_env_plugins\n",
    "# from gym.envs.registration import make, register, registry, spec\n",
    "\n",
    "e = gym.make(\"MountainCar-v0\").env\n",
    "\n",
    "total_reward = 0.0\n",
    "num_episodes = 20\n",
    "done = False\n",
    "for i in range(num_episodes):\n",
    "    e.reset()\n",
    "    while done == False:\n",
    "        e.render()\n",
    "        state, reward, done, info, moreinfo = e.step(e.action_space.sample())\n",
    "        num_episodes += 1\n",
    "        total_reward += reward\n",
    "        \n",
    "\n",
    "print(\"Episode done in %d steps, total reward %.2f\" % (num_episodes, total_reward))"
   ]
  },
  {
   "cell_type": "markdown",
   "metadata": {
    "colab_type": "text",
    "id": "4Yiqkd6V77iR"
   },
   "source": [
    "## Monitoring the agent"
   ]
  },
  {
   "cell_type": "code",
   "execution_count": 14,
   "metadata": {
    "colab": {},
    "colab_type": "code",
    "id": "SLeyhsZG77iT"
   },
   "outputs": [],
   "source": [
    "import matplotlib.pyplot as plt\n",
    "%matplotlib inline\n",
    "from IPython import display\n",
    "import numpy as np"
   ]
  },
  {
   "cell_type": "code",
   "execution_count": 15,
   "metadata": {
    "colab": {},
    "colab_type": "code",
    "id": "Z4bpB3RO77iU"
   },
   "outputs": [],
   "source": [
    "def show_state(e, step=0, info=\"\"):\n",
    "    plt.figure(3)\n",
    "    plt.clf()\n",
    "    plt.imshow(e.render())\n",
    "    plt.title(\"%s | Step: %d %s\" % (env.spec.id,step, info))\n",
    "    plt.axis('off')\n",
    "\n",
    "    display.clear_output(wait=True)\n",
    "    display.display(plt.gcf())"
   ]
  },
  {
   "cell_type": "code",
   "execution_count": 16,
   "metadata": {},
   "outputs": [
    {
     "data": {
      "image/png": "[encoded data removed]",
      "text/plain": [
       "<Figure size 640x480 with 1 Axes>"
      ]
     },
     "metadata": {},
     "output_type": "display_data"
    },
    {
     "name": "stdout",
     "output_type": "stream",
     "text": [
      "Episode done in 200 steps, total reward -24217.00\n"
     ]
    },
    {
     "data": {
      "image/png": "[encoded data removed]",
      "text/plain": [
       "<Figure size 640x480 with 1 Axes>"
      ]
     },
     "metadata": {},
     "output_type": "display_data"
    }
   ],
   "source": [
    "env = gym.make('MountainCar-v0', render_mode='rgb_array').env\n",
    "\n",
    "# reference https://github.com/bhushan23/OpenAI-Gym-Tutorials/blob/master/GettingStarted/mountain-car.py\n",
    "# number of episodes - the agent\n",
    "num_episodes = 100\n",
    "\n",
    "obs = env.reset()\n",
    "\n",
    "for step in range(num_episodes):\n",
    "    # take random action\n",
    "    action = env.action_space.sample()\n",
    "    \n",
    "    # apply the action\n",
    "    obs, reward, done, info, moreinfo = env.step(action)\n",
    "    print(reward)\n",
    "    # Render the env\n",
    "    env.render()\n",
    "    \n",
    "    # Increment the rewards and steps\n",
    "    total_reward += reward\n",
    "    num_episodes += 1\n",
    "    show_state(env,num_episodes)\n",
    "    # If the epsiode is up, then start another one\n",
    "    if done:\n",
    "        env.reset()\n",
    "\n",
    "# Close the env\n",
    "print(\"Episode done in %d steps, total reward %.2f\" % (num_episodes, total_reward))\n",
    "env.close()\n",
    "env.env.close()"
   ]
  },
  {
   "cell_type": "markdown",
   "metadata": {},
   "source": [
    "### Problem(rewards): Each timestep gave as -1 to reward. The number of the timesteps used to reach the goal is the negative number reported as the total reward."
   ]
  },
  {
   "cell_type": "markdown",
   "metadata": {
    "colab_type": "text",
    "id": "1IMqU34s77iX"
   },
   "source": [
    "## Tune wrappers\n",
    "\n",
    "### Instead of random action, I am trying to modify the action\n",
    "\n",
    "The default action looks like it is repeating \"State - Action - Reward\" randomly.\n",
    "\n",
    "Then we will use the Q-learning algorithm to update the rule based on the folmula below.\n",
    "\n",
    "<figure>\n",
    "  <IMG SRC=\"https://www.baeldung.com/wp-content/ql-cache/quicklatex.com-d9d0955e19ef869878dd2cf2a2be9373_l3.svg\" WIDTH=500>\n",
    "</figure>\n",
    "    \n",
    "I assume to enable our optimal action after adjusting the alpha, gamma and epsilon values."
   ]
  },
  {
   "cell_type": "code",
   "execution_count": 78,
   "metadata": {},
   "outputs": [],
   "source": [
    "def Qlearning(env, alpha, gamma, epsilon, min_steps, steps):\n",
    "    num_states = (env.observation_space.high - env.observation_space.low)*np.array([10,50])\n",
    "    num_states = np.round(num_states,0).astype(int) + 1\n",
    "    \n",
    "    Qlearn = np.random.uniform(low=-1, high=0, size =(num_states[0], num_states[1], \n",
    "                                                      env.action_space.n))\n",
    "    Qinit = np.copy(Qlearn)\n",
    "    \n",
    "    reward_list = []\n",
    "    ave_reward_list = []\n",
    "    \n",
    "    first = steps +1\n",
    "    \n",
    "    for i in range(steps):\n",
    "        do=False\n",
    "        total_reward, reward = 0, 0\n",
    "        state = env.reset()\n",
    "#         print(state[0])\n",
    "#         print(env.observation_space.low)\n",
    "        state_adj = (state[0] - env.observation_space.low)*np.array([10,50])\n",
    "        state_adj = np.round(state_adj, 0).astype(int)\n",
    "        \n",
    "        while do != True:   \n",
    "            if np.random.random() < 1:\n",
    "                action = np.argmax(Qlearn[state_adj[0], state_adj[1]])\n",
    "            else:\n",
    "                action = np.random.randint(0,env.action_space.n)\n",
    "                \n",
    "            state_next, reward, done, info, more = env.step(action)\n",
    "            \n",
    "            state_next_adj = (state_next - env.observation_space.low)*np.array([10,50])\n",
    "            state_next_adj = np.round(state_next_adj, 0).astype(int)\n",
    "                        \n",
    "            if done and state_next[0] >= 0.5:\n",
    "                Qlearn[state_adj[0], state_adj[1], action] += reward\n",
    "                \n",
    "            else:\n",
    "#                 print('state_next[0]',state_next[0])\n",
    "                flag0 = state_next[0]\n",
    "                flag1 = np.max(Qlearn[state_next_adj[0], state_next_adj[1]])\n",
    "                flag2 = np.max(Qlearn[state_adj[0], state_adj[1]])\n",
    "                flag = flag0 + flag1 - flag2\n",
    "                flag = round(flag, 3)\n",
    "                if (flag >= 0.5):\n",
    "                    flag = 2\n",
    "                else:\n",
    "                    flag =(flag+1.5)/1.7 - 1\n",
    "#                 print('discount',discount)\n",
    "\n",
    "                update = alpha*flag\n",
    "                Qlearn[state_adj[0], state_adj[1],action] += update\n",
    "                \n",
    "\n",
    "#             print(reward, state_next[0])\n",
    "            total_reward += state_next[0]\n",
    "#             print('total_reward',total_reward)\n",
    "            state_adj = state_next_adj\n",
    "            \n",
    "            \n",
    "        reward_list.append(total_reward)\n",
    "#         print('list',np.mean(reward_list))\n",
    "#         print('i',i)\n",
    "        env.render()    \n",
    "        if i % 100 == 0:\n",
    "                print('Episode', i, 'average reward:', np.mean(reward_list))\n",
    "\n",
    "        if i % 100 == 0:\n",
    "                ave_reward = np.mean(reward_list)\n",
    "                ave_reward_list.append(ave_reward)\n",
    "                reward_list = []\n",
    "                \n",
    "                \n",
    "#         print('ave_reward',np.mean(reward_list))\n",
    "#         print('reward_list',reward_list)\n",
    "    env.close\n",
    "    return reward_list, Qlearn, Qinit"
   ]
  },
  {
   "cell_type": "code",
   "execution_count": 79,
   "metadata": {},
   "outputs": [
    {
     "name": "stdout",
     "output_type": "stream",
     "text": [
      "Episode 0 average reward: -1358.9103503940278\n",
      "Episode 100 average reward: -436.0823389856037\n",
      "Episode 200 average reward: -347.60139593029135\n",
      "Episode 300 average reward: -387.78503528109695\n",
      "Episode 400 average reward: -339.4331540794992\n",
      "Episode 500 average reward: -371.600203871101\n",
      "Episode 600 average reward: -402.60395652867766\n",
      "Episode 700 average reward: -369.4091923657257\n",
      "Episode 800 average reward: -316.0891206642932\n",
      "Episode 900 average reward: -350.3089396333128\n",
      "Episode 1000 average reward: -328.7254253588887\n",
      "Episode 1100 average reward: -401.53683268903495\n",
      "Episode 1200 average reward: -386.2152624831278\n",
      "Episode 1300 average reward: -342.2834388019594\n",
      "Episode 1400 average reward: -353.61809995293123\n",
      "Episode 1500 average reward: -389.68061730618444\n",
      "Episode 1600 average reward: -418.66061978584025\n",
      "Episode 1700 average reward: -330.84404007127233\n",
      "Episode 1800 average reward: -382.3029690507308\n",
      "Episode 1900 average reward: -311.3425310234019\n",
      "Episode 2000 average reward: -299.5326132171147\n",
      "Episode 2100 average reward: -379.6099059211703\n",
      "Episode 2200 average reward: -350.5663509351648\n",
      "Episode 2300 average reward: -370.2555199362674\n",
      "Episode 2400 average reward: -325.1950069433617\n",
      "Episode 2500 average reward: -347.80626909688317\n",
      "Episode 2600 average reward: -354.4838771070546\n",
      "Episode 2700 average reward: -355.8151591794026\n",
      "Episode 2800 average reward: -384.30506407404226\n",
      "Episode 2900 average reward: -364.6480551230608\n",
      "Episode 3000 average reward: -333.4167075393566\n",
      "Episode 3100 average reward: -333.5382858242522\n",
      "Episode 3200 average reward: -401.97750681996126\n",
      "Episode 3300 average reward: -399.1410826465382\n",
      "Episode 3400 average reward: -347.5107941639136\n",
      "Episode 3500 average reward: -352.8686627070414\n",
      "Episode 3600 average reward: -361.3504495865\n",
      "Episode 3700 average reward: -369.89562741159176\n",
      "Episode 3800 average reward: -324.218571846552\n",
      "Episode 3900 average reward: -324.0826530895787\n",
      "Episode 4000 average reward: -357.80616372664633\n",
      "Episode 4100 average reward: -328.5183220556358\n",
      "Episode 4200 average reward: -323.9951400932966\n",
      "Episode 4300 average reward: -329.57069225589106\n",
      "Episode 4400 average reward: -362.67630520996244\n",
      "Episode 4500 average reward: -347.928564195059\n",
      "Episode 4600 average reward: -381.1496259391746\n",
      "Episode 4700 average reward: -327.69246215728145\n",
      "Episode 4800 average reward: -398.9020124906656\n",
      "Episode 4900 average reward: -382.4213028360554\n"
     ]
    }
   ],
   "source": [
    "env.reset()\n",
    "reward, Q, Q1 = Qlearning(env, 0.2, 0.5, 0.5, 0, 5000)"
   ]
  },
  {
   "cell_type": "code",
   "execution_count": 82,
   "metadata": {},
   "outputs": [
    {
     "name": "stdout",
     "output_type": "stream",
     "text": [
      "[-251.99448135111015, -738.0475333554205, -338.04354371200316, -166.35111600637902, -421.129886374576, -443.13862715195864, -248.2917278567329, -290.478836361337, -495.20715737236605, -642.1048171897419, -194.1487199343892, -190.81511749437777, -138.27919710753486, -260.56687710946426, -445.3606267415453, -197.2059623277746, -342.76612850491074, -116.23551215359475, -301.52946526324376, -174.3619228946627, -209.27962669590488, -206.02348064468242, -456.4174294417753, -284.3561319025466, -210.6773870025063, -561.1095449939166, -278.4772888876032, -168.4413133924827, -224.39940558886155, -1348.8902104308363, -470.2832100521773, -129.42497995623853, -368.48706946428865, -539.756399739068, -466.59308157890337, -482.907852944918, -312.51567365197116, -118.57868317840621, -147.51382314460352, -254.89545658475254, -659.8392254470382, -550.1179500329308, -200.54822142515332, -293.9810606332612, -1003.5628821707796, -107.5931458301493, -243.0982170304669, -585.2344364955788, -401.2068578649778, -330.2091394774052, -1157.5343964005879, -233.80318672728026, -130.23932932445314, -174.83923470624723, -209.23750362591818, -250.60395182995126, -280.43079509260133, -195.15853281179443, -342.8978296777932, -199.00533122220077, -171.18147852204856, -241.3592523264233, -499.58572317817016, -211.97664700262249, -336.72206695377827, -380.99707471503643, -186.835860714913, -321.48729212302715, -616.3845108852256, -643.3718816138571, -212.0091383989202, -265.43215951630555, -291.938819876872, -516.6945481672301, -225.35275335272308, -638.6680928780115, -351.47745270183077, -371.13677500002086, -700.6028766488889, -251.78828152632923, -606.021872036159, -177.40000057639554, -1355.9228838564013, -159.45932076591998, -1585.3656190879992, -266.6056976746768, -402.63256043812726, -233.5989163479535, -144.17324517527595, -1997.2346113369567, -130.7644298505038, -701.4241145677952, -499.3731409886386, -160.9617893998511, -331.6674267598428, -342.0657027109446, -196.35307016642764, -200.69344528607326, -549.2281686202041]\n"
     ]
    }
   ],
   "source": [
    "print(reward[0])"
   ]
  },
  {
   "cell_type": "code",
   "execution_count": 84,
   "metadata": {},
   "outputs": [
    {
     "data": {
      "image/png": "[encoded data removed]",
      "text/plain": [
       "<Figure size 640x480 with 1 Axes>"
      ]
     },
     "metadata": {},
     "output_type": "display_data"
    }
   ],
   "source": [
    "# Plot Rewards \n",
    "plt.plot(100*(np.arange(len(reward[0])) + 1), reward[0]) \n",
    "plt.xlabel('Episodes') \n",
    "plt.ylabel('Average Reward')     \n",
    "plt.show()"
   ]
  },
  {
   "cell_type": "markdown",
   "metadata": {},
   "source": [
    "### Conclusion\n",
    "By the deadline, I was not able to learn and set epsilon and gamma. The code was considered how the next state is close to the flag, adjusting only the alpha value. As you may see in the graph above, the reward is still not able to optimize much, and I could not move the goal flag. However, this is still better compared with the baseline condition of the random actions.\n",
    "\n",
    "Probably, I need to learn/test more to adjust gamma and epsilon values and include this in the leaning function. If I were able to do it, I can improve the result."
   ]
  },
  {
   "cell_type": "markdown",
   "metadata": {},
   "source": [
    "### References used \n",
    "- https://www.baeldung.com/cs/epsilon-greedy-q-learning\n",
    "- https://gymnasium.farama.org/\n",
    "- https://gymnasium.farama.org/environments/classic_control/mountain_car/\n",
    "- https://github.com/openai/gym/blob/master/gym/envs/classic_control/mountain_car.py\n",
    "- https://github.com/bhushan23/OpenAI-Gym-Tutorials/blob/master/GettingStarted/mountain-car.py\n",
    "- https://vadim.me/publications/heartpole/\n",
    "- https://towardsdatascience.com/q-learning-algorithm-from-explanation-to-implementation-cdbeda2ea187\n",
    "- https://www.baeldung.com/cs/epsilon-greedy-q-learning\n",
    "- https://condor.depaul.edu/ntomuro/courses/594-ADL/assign/Getting%20Started%20with%20Reinforcement%20Learning%20and%20Open%20AI%20Gym.pdf"
   ]
  },
  {
   "cell_type": "code",
   "execution_count": null,
   "metadata": {},
   "outputs": [],
   "source": []
  }
 ],
 "metadata": {
  "colab": {
   "collapsed_sections": [],
   "name": "cartpole-edited.ipynb",
   "provenance": []
  },
  "kernelspec": {
   "display_name": "Python 3 (ipykernel)",
   "language": "python",
   "name": "python3"
  },
  "language_info": {
   "codemirror_mode": {
    "name": "ipython",
    "version": 3
   },
   "file_extension": ".py",
   "mimetype": "text/x-python",
   "name": "python",
   "nbconvert_exporter": "python",
   "pygments_lexer": "ipython3",
   "version": "3.9.7"
  }
 },
 "nbformat": 4,
 "nbformat_minor": 1
}
